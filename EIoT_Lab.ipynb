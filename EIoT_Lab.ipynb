{
  "nbformat": 4,
  "nbformat_minor": 0,
  "metadata": {
    "colab": {
      "name": "EIoT Lab.ipynb",
      "provenance": [],
      "collapsed_sections": [],
      "authorship_tag": "ABX9TyN6EbZwIIshZENLJFsv1n/L",
      "include_colab_link": true
    },
    "kernelspec": {
      "name": "python3",
      "display_name": "Python 3"
    },
    "language_info": {
      "name": "python"
    }
  },
  "cells": [
    {
      "cell_type": "markdown",
      "metadata": {
        "id": "view-in-github",
        "colab_type": "text"
      },
      "source": [
        "<a href=\"https://colab.research.google.com/github/i-ssu/Languages/blob/main/EIoT_Lab.ipynb\" target=\"_parent\"><img src=\"https://colab.research.google.com/assets/colab-badge.svg\" alt=\"Open In Colab\"/></a>"
      ]
    },
    {
      "cell_type": "markdown",
      "metadata": {
        "id": "XFh3ZbxlTemx"
      },
      "source": [
        "DATE: 26/11/2021\n",
        "EIOT LAB\n",
        "TOPIC: **STRINGS**"
      ]
    },
    {
      "cell_type": "code",
      "metadata": {
        "colab": {
          "base_uri": "https://localhost:8080/"
        },
        "id": "zRg7A9-XTuDa",
        "outputId": "96d8b937-acf4-4fd3-97c5-08d193e5a0d9"
      },
      "source": [
        "str1= 'SANJANA'\n",
        "str1\n",
        "str2=\"Embedded System and IoT Lab\"\n",
        "print(str1, str2)"
      ],
      "execution_count": null,
      "outputs": [
        {
          "output_type": "stream",
          "name": "stdout",
          "text": [
            "SANJANA Embedded System and IoT Lab\n"
          ]
        }
      ]
    },
    {
      "cell_type": "code",
      "metadata": {
        "colab": {
          "base_uri": "https://localhost:8080/",
          "height": 35
        },
        "id": "zsaQ7fSkUdUO",
        "outputId": "4330b5e7-5aa3-4906-86da-5c3e23f6cc01"
      },
      "source": [
        "str3='''Today is Friday'''\n",
        "str3"
      ],
      "execution_count": null,
      "outputs": [
        {
          "output_type": "execute_result",
          "data": {
            "application/vnd.google.colaboratory.intrinsic+json": {
              "type": "string"
            },
            "text/plain": [
              "'Today is Friday'"
            ]
          },
          "metadata": {},
          "execution_count": 13
        }
      ]
    },
    {
      "cell_type": "code",
      "metadata": {
        "colab": {
          "base_uri": "https://localhost:8080/"
        },
        "id": "wWMzLTKvUsJC",
        "outputId": "ba945cd0-4187-4334-ed2f-c6873acbc68c"
      },
      "source": [
        "Data='''Python and its broad variety of libraries are very well suited to develop customized machine learning tools which tackle the complex challenges posed by financial time series.'''\n",
        "print(Data)"
      ],
      "execution_count": null,
      "outputs": [
        {
          "output_type": "stream",
          "name": "stdout",
          "text": [
            "Python and its broad variety of libraries are very well suited to develop customized machine learning tools which tackle the complex challenges posed by financial time series.\n"
          ]
        }
      ]
    },
    {
      "cell_type": "code",
      "metadata": {
        "colab": {
          "base_uri": "https://localhost:8080/",
          "height": 35
        },
        "id": "amfGEssaWk1-",
        "outputId": "9d1d2dd7-cc1b-42c4-81aa-5f8821ea5df9"
      },
      "source": [
        "str4=\"SANJANA\"\n",
        "str4[4]"
      ],
      "execution_count": null,
      "outputs": [
        {
          "output_type": "execute_result",
          "data": {
            "application/vnd.google.colaboratory.intrinsic+json": {
              "type": "string"
            },
            "text/plain": [
              "'A'"
            ]
          },
          "metadata": {},
          "execution_count": 20
        }
      ]
    },
    {
      "cell_type": "markdown",
      "metadata": {
        "id": "-UN3POA9VYnZ"
      },
      "source": [
        "SLICING\n"
      ]
    },
    {
      "cell_type": "code",
      "metadata": {
        "colab": {
          "base_uri": "https://localhost:8080/",
          "height": 35
        },
        "id": "Dypci0SlW9rl",
        "outputId": "0f9764d9-da3a-4bad-a02e-5749109d37b9"
      },
      "source": [
        "str4[0:10]"
      ],
      "execution_count": null,
      "outputs": [
        {
          "output_type": "execute_result",
          "data": {
            "application/vnd.google.colaboratory.intrinsic+json": {
              "type": "string"
            },
            "text/plain": [
              "'SANJANA'"
            ]
          },
          "metadata": {},
          "execution_count": 26
        }
      ]
    },
    {
      "cell_type": "code",
      "metadata": {
        "colab": {
          "base_uri": "https://localhost:8080/"
        },
        "id": "Z_EBo97LXfdz",
        "outputId": "71ea8db9-f114-4019-d450-fdd4785863ab"
      },
      "source": [
        "len(str3)"
      ],
      "execution_count": null,
      "outputs": [
        {
          "output_type": "execute_result",
          "data": {
            "text/plain": [
              "15"
            ]
          },
          "metadata": {},
          "execution_count": 29
        }
      ]
    },
    {
      "cell_type": "code",
      "metadata": {
        "colab": {
          "base_uri": "https://localhost:8080/",
          "height": 35
        },
        "id": "m_2ZfQvsXvMV",
        "outputId": "5edb674e-504d-4bd5-df71-0ecd08fbd1e7"
      },
      "source": [
        "str3[0:10]  # 0 is start index, 10 is end index (exclusive)"
      ],
      "execution_count": null,
      "outputs": [
        {
          "output_type": "execute_result",
          "data": {
            "application/vnd.google.colaboratory.intrinsic+json": {
              "type": "string"
            },
            "text/plain": [
              "'Today is F'"
            ]
          },
          "metadata": {},
          "execution_count": 31
        }
      ]
    },
    {
      "cell_type": "code",
      "metadata": {
        "colab": {
          "base_uri": "https://localhost:8080/",
          "height": 35
        },
        "id": "6tGLS-5jYYyJ",
        "outputId": "a160a8e8-54f1-4c70-99fd-6a02fa3115c9"
      },
      "source": [
        "str3[0:10:2] #will give values having index 0,2,4,6,8==> 'Tdyi '"
      ],
      "execution_count": null,
      "outputs": [
        {
          "output_type": "execute_result",
          "data": {
            "application/vnd.google.colaboratory.intrinsic+json": {
              "type": "string"
            },
            "text/plain": [
              "'Tdyi '"
            ]
          },
          "metadata": {},
          "execution_count": 32
        }
      ]
    },
    {
      "cell_type": "code",
      "metadata": {
        "colab": {
          "base_uri": "https://localhost:8080/",
          "height": 35
        },
        "id": "u7URm111ZA3K",
        "outputId": "f3d00318-1acd-43dc-8dcc-2bc8f47cbf68"
      },
      "source": [
        "str3[10:0:-2] #will give values having index 10,8,6,4,2==> 'r iyd'"
      ],
      "execution_count": null,
      "outputs": [
        {
          "output_type": "execute_result",
          "data": {
            "application/vnd.google.colaboratory.intrinsic+json": {
              "type": "string"
            },
            "text/plain": [
              "'r iyd'"
            ]
          },
          "metadata": {},
          "execution_count": 33
        }
      ]
    },
    {
      "cell_type": "markdown",
      "metadata": {
        "id": "hLall9BGZfoC"
      },
      "source": [
        "NEGATIVE INDEX"
      ]
    },
    {
      "cell_type": "code",
      "metadata": {
        "colab": {
          "base_uri": "https://localhost:8080/",
          "height": 35
        },
        "id": "BDPWr-L1ZitV",
        "outputId": "7fe50318-a902-44ae-c130-c2af25a5e79a"
      },
      "source": [
        "str3[10:1:-2]"
      ],
      "execution_count": null,
      "outputs": [
        {
          "output_type": "execute_result",
          "data": {
            "application/vnd.google.colaboratory.intrinsic+json": {
              "type": "string"
            },
            "text/plain": [
              "'r iyd'"
            ]
          },
          "metadata": {},
          "execution_count": 34
        }
      ]
    },
    {
      "cell_type": "code",
      "metadata": {
        "colab": {
          "base_uri": "https://localhost:8080/",
          "height": 35
        },
        "id": "OQkSUUBAawkg",
        "outputId": "fc99bb4d-5e81-4f73-af17-4b9ccf51b39a"
      },
      "source": [
        "str3[-2]"
      ],
      "execution_count": null,
      "outputs": [
        {
          "output_type": "execute_result",
          "data": {
            "application/vnd.google.colaboratory.intrinsic+json": {
              "type": "string"
            },
            "text/plain": [
              "'a'"
            ]
          },
          "metadata": {},
          "execution_count": 35
        }
      ]
    },
    {
      "cell_type": "code",
      "metadata": {
        "colab": {
          "base_uri": "https://localhost:8080/",
          "height": 35
        },
        "id": "25Fsn_Sca1Ga",
        "outputId": "78e014e4-85a9-4424-e86b-5a28ab5bd518"
      },
      "source": [
        "str3[-12]"
      ],
      "execution_count": null,
      "outputs": [
        {
          "output_type": "execute_result",
          "data": {
            "application/vnd.google.colaboratory.intrinsic+json": {
              "type": "string"
            },
            "text/plain": [
              "'a'"
            ]
          },
          "metadata": {},
          "execution_count": 36
        }
      ]
    },
    {
      "cell_type": "code",
      "metadata": {
        "colab": {
          "base_uri": "https://localhost:8080/",
          "height": 35
        },
        "id": "PVAXX_1za6kU",
        "outputId": "0cb8ce18-1730-4bff-ea0e-f27dfb9d9d9a"
      },
      "source": [
        "str3[-15]"
      ],
      "execution_count": null,
      "outputs": [
        {
          "output_type": "execute_result",
          "data": {
            "application/vnd.google.colaboratory.intrinsic+json": {
              "type": "string"
            },
            "text/plain": [
              "'T'"
            ]
          },
          "metadata": {},
          "execution_count": 41
        }
      ]
    },
    {
      "cell_type": "code",
      "metadata": {
        "colab": {
          "base_uri": "https://localhost:8080/",
          "height": 35
        },
        "id": "7j_uyMi0a9Gn",
        "outputId": "03206929-1405-45ea-9fd1-34a95b67d36e"
      },
      "source": [
        "str3[-15:-11:1]"
      ],
      "execution_count": null,
      "outputs": [
        {
          "output_type": "execute_result",
          "data": {
            "application/vnd.google.colaboratory.intrinsic+json": {
              "type": "string"
            },
            "text/plain": [
              "'Toda'"
            ]
          },
          "metadata": {},
          "execution_count": 43
        }
      ]
    },
    {
      "cell_type": "code",
      "metadata": {
        "colab": {
          "base_uri": "https://localhost:8080/",
          "height": 35
        },
        "id": "GC7rHupEdaMq",
        "outputId": "6fa019db-a336-4adf-a428-5e2f4c80401d"
      },
      "source": [
        "str3[::-1]"
      ],
      "execution_count": null,
      "outputs": [
        {
          "output_type": "execute_result",
          "data": {
            "application/vnd.google.colaboratory.intrinsic+json": {
              "type": "string"
            },
            "text/plain": [
              "'yadirF si yadoT'"
            ]
          },
          "metadata": {},
          "execution_count": 50
        }
      ]
    },
    {
      "cell_type": "code",
      "metadata": {
        "colab": {
          "base_uri": "https://localhost:8080/",
          "height": 35
        },
        "id": "Sd4QkgiPcuvl",
        "outputId": "8f5bd3fa-20d6-411e-c31f-b953b2f1777f"
      },
      "source": [
        "str3[-1:-(len(str3)):-1]"
      ],
      "execution_count": null,
      "outputs": [
        {
          "output_type": "execute_result",
          "data": {
            "application/vnd.google.colaboratory.intrinsic+json": {
              "type": "string"
            },
            "text/plain": [
              "'yadirF si yado'"
            ]
          },
          "metadata": {},
          "execution_count": 52
        }
      ]
    },
    {
      "cell_type": "markdown",
      "metadata": {
        "id": "BI4tjww0dxAX"
      },
      "source": [
        "UPDATING STRING "
      ]
    },
    {
      "cell_type": "code",
      "metadata": {
        "colab": {
          "base_uri": "https://localhost:8080/",
          "height": 35
        },
        "id": "yHIo_Efedz3o",
        "outputId": "05bb4e93-fe1e-4aa7-f5f8-10fcf65f80f6"
      },
      "source": [
        "str3 #String is immutable values and places cannot be changed "
      ],
      "execution_count": null,
      "outputs": [
        {
          "output_type": "execute_result",
          "data": {
            "application/vnd.google.colaboratory.intrinsic+json": {
              "type": "string"
            },
            "text/plain": [
              "'Today is Friday'"
            ]
          },
          "metadata": {},
          "execution_count": 59
        }
      ]
    },
    {
      "cell_type": "code",
      "metadata": {
        "colab": {
          "base_uri": "https://localhost:8080/"
        },
        "id": "Gib4NHOeevHS",
        "outputId": "3696c1ac-5b1c-4730-a4e1-a131cbcf5212"
      },
      "source": [
        "str3='Today is Friday'\n",
        "print(\"The Original Value: \", str3)\n",
        "str3='Mumbai'\n",
        "print(\"The changed value: \", str3)"
      ],
      "execution_count": null,
      "outputs": [
        {
          "output_type": "stream",
          "name": "stdout",
          "text": [
            "The Original Value:  Today is Friday\n",
            "The changed value:  Mumbai\n"
          ]
        }
      ]
    },
    {
      "cell_type": "markdown",
      "metadata": {
        "id": "4DrRkB3YfXjP"
      },
      "source": [
        "DELETING THE STRING"
      ]
    },
    {
      "cell_type": "code",
      "metadata": {
        "colab": {
          "base_uri": "https://localhost:8080/",
          "height": 189
        },
        "id": "nNO64J1qfckf",
        "outputId": "3ad74205-32e2-433f-8baa-f487734e7959"
      },
      "source": [
        "del str3\n",
        "print(str1, str2, str3)"
      ],
      "execution_count": null,
      "outputs": [
        {
          "output_type": "error",
          "ename": "NameError",
          "evalue": "ignored",
          "traceback": [
            "\u001b[0;31m---------------------------------------------------------------------------\u001b[0m",
            "\u001b[0;31mNameError\u001b[0m                                 Traceback (most recent call last)",
            "\u001b[0;32m<ipython-input-66-b5602f519965>\u001b[0m in \u001b[0;36m<module>\u001b[0;34m()\u001b[0m\n\u001b[0;32m----> 1\u001b[0;31m \u001b[0;32mdel\u001b[0m \u001b[0mstr3\u001b[0m\u001b[0;34m\u001b[0m\u001b[0;34m\u001b[0m\u001b[0m\n\u001b[0m\u001b[1;32m      2\u001b[0m \u001b[0mprint\u001b[0m\u001b[0;34m(\u001b[0m\u001b[0mstr1\u001b[0m\u001b[0;34m,\u001b[0m \u001b[0mstr2\u001b[0m\u001b[0;34m,\u001b[0m \u001b[0mstr3\u001b[0m\u001b[0;34m)\u001b[0m\u001b[0;34m\u001b[0m\u001b[0;34m\u001b[0m\u001b[0m\n",
            "\u001b[0;31mNameError\u001b[0m: name 'str3' is not defined"
          ]
        }
      ]
    },
    {
      "cell_type": "code",
      "metadata": {
        "colab": {
          "base_uri": "https://localhost:8080/"
        },
        "id": "no4Zybq7gFZ9",
        "outputId": "172a9814-683a-4127-aa69-9aa42458342c"
      },
      "source": [
        "str2='Mumbai'\n",
        "str2\n",
        "del str2\n",
        "print(str1) "
      ],
      "execution_count": null,
      "outputs": [
        {
          "output_type": "stream",
          "name": "stdout",
          "text": [
            "SANJANA\n"
          ]
        }
      ]
    },
    {
      "cell_type": "code",
      "metadata": {
        "colab": {
          "base_uri": "https://localhost:8080/",
          "height": 35
        },
        "id": "0_jznB48ggrB",
        "outputId": "d75977ca-d342-4377-ddb4-51fbec95eb8e"
      },
      "source": [
        "a='I'\n",
        "b=' am '\n",
        "c='in the class'\n",
        "d= a+b+c\n",
        "d \n"
      ],
      "execution_count": null,
      "outputs": [
        {
          "output_type": "execute_result",
          "data": {
            "application/vnd.google.colaboratory.intrinsic+json": {
              "type": "string"
            },
            "text/plain": [
              "'I am int the class'"
            ]
          },
          "metadata": {},
          "execution_count": 75
        }
      ]
    },
    {
      "cell_type": "code",
      "metadata": {
        "colab": {
          "base_uri": "https://localhost:8080/",
          "height": 189
        },
        "id": "uMktqpFLhC_w",
        "outputId": "28c152ce-0e0e-459a-f3a0-341243ba8e6b"
      },
      "source": [
        "len(d//2)\n",
        "len(a)+len(b)+len(c)"
      ],
      "execution_count": null,
      "outputs": [
        {
          "output_type": "error",
          "ename": "NameError",
          "evalue": "ignored",
          "traceback": [
            "\u001b[0;31m---------------------------------------------------------------------------\u001b[0m",
            "\u001b[0;31mNameError\u001b[0m                                 Traceback (most recent call last)",
            "\u001b[0;32m<ipython-input-1-ed137e6f0bf3>\u001b[0m in \u001b[0;36m<module>\u001b[0;34m()\u001b[0m\n\u001b[0;32m----> 1\u001b[0;31m \u001b[0mlen\u001b[0m\u001b[0;34m(\u001b[0m\u001b[0md\u001b[0m\u001b[0;34m//\u001b[0m\u001b[0;36m2\u001b[0m\u001b[0;34m)\u001b[0m\u001b[0;34m\u001b[0m\u001b[0;34m\u001b[0m\u001b[0m\n\u001b[0m\u001b[1;32m      2\u001b[0m \u001b[0mlen\u001b[0m\u001b[0;34m(\u001b[0m\u001b[0ma\u001b[0m\u001b[0;34m)\u001b[0m\u001b[0;34m+\u001b[0m\u001b[0mlen\u001b[0m\u001b[0;34m(\u001b[0m\u001b[0mb\u001b[0m\u001b[0;34m)\u001b[0m\u001b[0;34m+\u001b[0m\u001b[0mlen\u001b[0m\u001b[0;34m(\u001b[0m\u001b[0mc\u001b[0m\u001b[0;34m)\u001b[0m\u001b[0;34m\u001b[0m\u001b[0;34m\u001b[0m\u001b[0m\n",
            "\u001b[0;31mNameError\u001b[0m: name 'd' is not defined"
          ]
        }
      ]
    },
    {
      "cell_type": "code",
      "metadata": {
        "colab": {
          "base_uri": "https://localhost:8080/"
        },
        "id": "07_gyDKyhUiP",
        "outputId": "9768dd14-7a2a-4c22-d360-e3c3adf24d68"
      },
      "source": [
        "print(a*3)"
      ],
      "execution_count": null,
      "outputs": [
        {
          "output_type": "stream",
          "name": "stdout",
          "text": [
            "III\n"
          ]
        }
      ]
    },
    {
      "cell_type": "markdown",
      "metadata": {
        "id": "7vs8ibJ3h4Ql"
      },
      "source": [
        "RETIONAL OPERATORS\n",
        ">,<,>=,<=,==,!=\n"
      ]
    },
    {
      "cell_type": "code",
      "metadata": {
        "colab": {
          "base_uri": "https://localhost:8080/"
        },
        "id": "oZnvZEtRhdrT",
        "outputId": "7cc3e672-bcf2-43dc-8423-a59e7572f517"
      },
      "source": [
        "print('A'=='a')"
      ],
      "execution_count": null,
      "outputs": [
        {
          "output_type": "stream",
          "name": "stdout",
          "text": [
            "False\n"
          ]
        }
      ]
    },
    {
      "cell_type": "code",
      "metadata": {
        "colab": {
          "base_uri": "https://localhost:8080/"
        },
        "id": "vNa3tC3WiQVb",
        "outputId": "f7712d21-7fca-4427-a743-d64b4cab02f6"
      },
      "source": [
        "ord('a')"
      ],
      "execution_count": null,
      "outputs": [
        {
          "output_type": "execute_result",
          "data": {
            "text/plain": [
              "97"
            ]
          },
          "metadata": {},
          "execution_count": 81
        }
      ]
    },
    {
      "cell_type": "code",
      "metadata": {
        "colab": {
          "base_uri": "https://localhost:8080/"
        },
        "id": "nsfE29NJiyWx",
        "outputId": "2a1012ba-5360-46c6-c3e9-730b7a7edb08"
      },
      "source": [
        "ord('A')\n"
      ],
      "execution_count": null,
      "outputs": [
        {
          "output_type": "execute_result",
          "data": {
            "text/plain": [
              "65"
            ]
          },
          "metadata": {},
          "execution_count": 82
        }
      ]
    },
    {
      "cell_type": "code",
      "metadata": {
        "colab": {
          "base_uri": "https://localhost:8080/"
        },
        "id": "pGZQ799ti0i1",
        "outputId": "e251ff97-45ec-4d67-f294-e9608dc2133f"
      },
      "source": [
        "print('A'>'a')"
      ],
      "execution_count": null,
      "outputs": [
        {
          "output_type": "stream",
          "name": "stdout",
          "text": [
            "False\n"
          ]
        }
      ]
    },
    {
      "cell_type": "code",
      "metadata": {
        "colab": {
          "base_uri": "https://localhost:8080/"
        },
        "id": "DxEEOE4ai5aO",
        "outputId": "86fab08b-e2e0-40cc-9c76-4d7fdfb452a1"
      },
      "source": [
        "print('A'<'a')"
      ],
      "execution_count": null,
      "outputs": [
        {
          "output_type": "stream",
          "name": "stdout",
          "text": [
            "True\n"
          ]
        }
      ]
    },
    {
      "cell_type": "code",
      "metadata": {
        "colab": {
          "base_uri": "https://localhost:8080/"
        },
        "id": "UB90QZDqi9zd",
        "outputId": "c486d189-d0f4-481d-b38c-ed5aaf938459"
      },
      "source": [
        "print('A'>='a')"
      ],
      "execution_count": null,
      "outputs": [
        {
          "output_type": "stream",
          "name": "stdout",
          "text": [
            "False\n"
          ]
        }
      ]
    },
    {
      "cell_type": "code",
      "metadata": {
        "colab": {
          "base_uri": "https://localhost:8080/"
        },
        "id": "i4KxaYZWjDJ6",
        "outputId": "445d3316-c7eb-4dc7-a2b5-f809fdfdb5df"
      },
      "source": [
        "print('A'<='a')"
      ],
      "execution_count": null,
      "outputs": [
        {
          "output_type": "stream",
          "name": "stdout",
          "text": [
            "True\n"
          ]
        }
      ]
    },
    {
      "cell_type": "code",
      "metadata": {
        "id": "u0Vss8sOjITk"
      },
      "source": [
        "a='I am'\n",
        "b='int the class'\n",
        "#compare a and b task for retional operator"
      ],
      "execution_count": null,
      "outputs": []
    },
    {
      "cell_type": "code",
      "metadata": {
        "id": "mViUWQPYjd-N"
      },
      "source": [
        "print('I am'>'a')"
      ],
      "execution_count": null,
      "outputs": []
    },
    {
      "cell_type": "code",
      "metadata": {
        "id": "RFmV1V0VjdY6"
      },
      "source": [
        "print('A'<'a')"
      ],
      "execution_count": null,
      "outputs": []
    },
    {
      "cell_type": "code",
      "metadata": {
        "id": "mcnY9qkejdHh"
      },
      "source": [
        "print('A'>='a')"
      ],
      "execution_count": null,
      "outputs": []
    },
    {
      "cell_type": "code",
      "metadata": {
        "id": "bKHbb4XhjjBU"
      },
      "source": [
        "print('A'<='a')"
      ],
      "execution_count": null,
      "outputs": []
    },
    {
      "cell_type": "code",
      "metadata": {
        "id": "0XzHlSLvjl-7"
      },
      "source": [
        "print('A'='a')"
      ],
      "execution_count": null,
      "outputs": []
    },
    {
      "cell_type": "code",
      "metadata": {
        "colab": {
          "base_uri": "https://localhost:8080/"
        },
        "id": "jEcd1RLWjtTC",
        "outputId": "37cfd5ca-a563-4183-aa05-14d79c4ae6c8"
      },
      "source": [
        "print(d)"
      ],
      "execution_count": null,
      "outputs": [
        {
          "output_type": "stream",
          "name": "stdout",
          "text": [
            "I am int the class\n"
          ]
        }
      ]
    },
    {
      "cell_type": "code",
      "metadata": {
        "colab": {
          "base_uri": "https://localhost:8080/",
          "height": 35
        },
        "id": "uJsl_1E9j5OO",
        "outputId": "9e6b65c4-e8f6-42a1-915e-e2db5fe19890"
      },
      "source": [
        "x='10'\n",
        "x"
      ],
      "execution_count": null,
      "outputs": [
        {
          "output_type": "execute_result",
          "data": {
            "application/vnd.google.colaboratory.intrinsic+json": {
              "type": "string"
            },
            "text/plain": [
              "'10'"
            ]
          },
          "metadata": {},
          "execution_count": 92
        }
      ]
    },
    {
      "cell_type": "code",
      "metadata": {
        "colab": {
          "base_uri": "https://localhost:8080/"
        },
        "id": "yQDRHmcOkAze",
        "outputId": "33615e1a-f3ab-4f5b-b3ee-cb0b19fed818"
      },
      "source": [
        "y=10\n",
        "print(y)"
      ],
      "execution_count": null,
      "outputs": [
        {
          "output_type": "stream",
          "name": "stdout",
          "text": [
            "10\n"
          ]
        }
      ]
    },
    {
      "cell_type": "markdown",
      "metadata": {
        "id": "Tz5FL04ukPgh"
      },
      "source": [
        "MEMBERSHIP OPERATION"
      ]
    },
    {
      "cell_type": "code",
      "metadata": {
        "colab": {
          "base_uri": "https://localhost:8080/"
        },
        "id": "1odmXEYhkMSo",
        "outputId": "39d39c8b-c5ef-47dd-bbc4-ed6437020a63"
      },
      "source": [
        "print('class' in d) #whether the string 'class' is present in the string d"
      ],
      "execution_count": null,
      "outputs": [
        {
          "output_type": "stream",
          "name": "stdout",
          "text": [
            "True\n"
          ]
        }
      ]
    },
    {
      "cell_type": "code",
      "metadata": {
        "colab": {
          "base_uri": "https://localhost:8080/"
        },
        "id": "KkDEF2dHkxcl",
        "outputId": "65decc2d-1bff-4ab7-f436-a006aeaa7757"
      },
      "source": [
        "print('Class' in d)"
      ],
      "execution_count": null,
      "outputs": [
        {
          "output_type": "stream",
          "name": "stdout",
          "text": [
            "False\n"
          ]
        }
      ]
    },
    {
      "cell_type": "code",
      "metadata": {
        "colab": {
          "base_uri": "https://localhost:8080/"
        },
        "id": "VxxKl_B0k4Mx",
        "outputId": "9f7bb352-2269-4f1b-bac8-40410d73e9cf"
      },
      "source": [
        "print('Class' not in d)"
      ],
      "execution_count": null,
      "outputs": [
        {
          "output_type": "stream",
          "name": "stdout",
          "text": [
            "True\n"
          ]
        }
      ]
    },
    {
      "cell_type": "code",
      "metadata": {
        "colab": {
          "base_uri": "https://localhost:8080/",
          "height": 35
        },
        "id": "kWyZq9OPlnuc",
        "outputId": "c8a00839-7b7d-4e01-fd4d-929aa37f4737"
      },
      "source": [
        "'mumbai'.capitalize()"
      ],
      "execution_count": null,
      "outputs": [
        {
          "output_type": "execute_result",
          "data": {
            "application/vnd.google.colaboratory.intrinsic+json": {
              "type": "string"
            },
            "text/plain": [
              "'Mumbai'"
            ]
          },
          "metadata": {},
          "execution_count": 104
        }
      ]
    },
    {
      "cell_type": "code",
      "metadata": {
        "colab": {
          "base_uri": "https://localhost:8080/",
          "height": 35
        },
        "id": "WAOGEqPRmUnN",
        "outputId": "fd3cb0b9-08cb-481b-b550-5dd6b2bb9890"
      },
      "source": [
        "'I LOVE MUMBAI'.title()"
      ],
      "execution_count": null,
      "outputs": [
        {
          "output_type": "execute_result",
          "data": {
            "application/vnd.google.colaboratory.intrinsic+json": {
              "type": "string"
            },
            "text/plain": [
              "'I Love Mumbai'"
            ]
          },
          "metadata": {},
          "execution_count": 108
        }
      ]
    },
    {
      "cell_type": "markdown",
      "metadata": {
        "id": "qM4cD_gqmpei"
      },
      "source": [
        "Count find, endwidth, startswidth"
      ]
    },
    {
      "cell_type": "code",
      "metadata": {
        "colab": {
          "base_uri": "https://localhost:8080/"
        },
        "id": "OP6_4hqKm56I",
        "outputId": "ba3193ee-3a6b-4b3c-8993-d562eeba64fa"
      },
      "source": [
        "'I am in class, I am writing the code'.count('i') #count"
      ],
      "execution_count": null,
      "outputs": [
        {
          "output_type": "execute_result",
          "data": {
            "text/plain": [
              "3"
            ]
          },
          "metadata": {},
          "execution_count": 110
        }
      ]
    },
    {
      "cell_type": "code",
      "metadata": {
        "colab": {
          "base_uri": "https://localhost:8080/"
        },
        "id": "qDL9cpLfnUM0",
        "outputId": "5df72fe6-5499-4b39-f6c0-5f6690175b2c"
      },
      "source": [
        "'I am in class, I am writing the code'.count('m') #count"
      ],
      "execution_count": null,
      "outputs": [
        {
          "output_type": "execute_result",
          "data": {
            "text/plain": [
              "2"
            ]
          },
          "metadata": {},
          "execution_count": 111
        }
      ]
    },
    {
      "cell_type": "code",
      "metadata": {
        "colab": {
          "base_uri": "https://localhost:8080/"
        },
        "id": "CNzryp7MnZGI",
        "outputId": "50a80796-8941-4987-e9cb-c1d42d509a07"
      },
      "source": [
        "'I am in class, I am writing the code'.count(' ') #count space"
      ],
      "execution_count": null,
      "outputs": [
        {
          "output_type": "execute_result",
          "data": {
            "text/plain": [
              "8"
            ]
          },
          "metadata": {},
          "execution_count": 113
        }
      ]
    },
    {
      "cell_type": "code",
      "metadata": {
        "colab": {
          "base_uri": "https://localhost:8080/"
        },
        "id": "xk4C8PMXn2KY",
        "outputId": "b41db3b5-faf5-4c71-c778-5133dc68ac4b"
      },
      "source": [
        "'I am in class, I am writing the code'.index('I') #count index"
      ],
      "execution_count": null,
      "outputs": [
        {
          "output_type": "execute_result",
          "data": {
            "text/plain": [
              "0"
            ]
          },
          "metadata": {},
          "execution_count": 115
        }
      ]
    },
    {
      "cell_type": "code",
      "metadata": {
        "colab": {
          "base_uri": "https://localhost:8080/"
        },
        "id": "0dI2Hac2oB18",
        "outputId": "3a5cd708-a1af-4193-a4cd-fe7e5187b326"
      },
      "source": [
        "'I am in class, I am writing the code'.rindex('m') #index"
      ],
      "execution_count": null,
      "outputs": [
        {
          "output_type": "execute_result",
          "data": {
            "text/plain": [
              "18"
            ]
          },
          "metadata": {},
          "execution_count": 1
        }
      ]
    },
    {
      "cell_type": "markdown",
      "metadata": {
        "id": "n2cfru3uoJ0m"
      },
      "source": [
        "Compare difference between find and index function"
      ]
    },
    {
      "cell_type": "markdown",
      "source": [
        "To write a python program to find the maximum from a list of numb\n",
        "Num_list=5,9,28,10,19\n",
        "Use if else statement to find max number \n",
        "\n",
        "A=[10,,29,30,20,50]\n",
        "Print(A[3])"
      ],
      "metadata": {
        "id": "peM47JTuYmpk"
      }
    },
    {
      "cell_type": "code",
      "source": [
        "A=[10,30,40,365,47]\n",
        "max(A)"
      ],
      "metadata": {
        "colab": {
          "base_uri": "https://localhost:8080/"
        },
        "id": "dQzLSX6uYm9H",
        "outputId": "7e369c7d-81b6-4c12-e969-5052f8a185c1"
      },
      "execution_count": null,
      "outputs": [
        {
          "output_type": "execute_result",
          "data": {
            "text/plain": [
              "365"
            ]
          },
          "metadata": {},
          "execution_count": 4
        }
      ]
    },
    {
      "cell_type": "code",
      "source": [
        "# Creating a list\n",
        "\n",
        "list_1=[10, 8387.838394,778,7,0, len(\"EIOT\")]\n",
        "max(list_1)\n"
      ],
      "metadata": {
        "colab": {
          "base_uri": "https://localhost:8080/"
        },
        "id": "sYNzitZQamvh",
        "outputId": "ec1e7cac-ae07-4f9b-8d4a-62d5b880f77e"
      },
      "execution_count": null,
      "outputs": [
        {
          "output_type": "execute_result",
          "data": {
            "text/plain": [
              "8387.838394"
            ]
          },
          "metadata": {},
          "execution_count": 9
        }
      ]
    },
    {
      "cell_type": "code",
      "source": [
        "list_1"
      ],
      "metadata": {
        "colab": {
          "base_uri": "https://localhost:8080/"
        },
        "id": "Rv0CdDPtb9M9",
        "outputId": "067269d6-f1c2-4661-f702-52e62ab55d34"
      },
      "execution_count": null,
      "outputs": [
        {
          "output_type": "execute_result",
          "data": {
            "text/plain": [
              "[10, 8387.838394, 778, 7, 0, 4]"
            ]
          },
          "metadata": {},
          "execution_count": 10
        }
      ]
    },
    {
      "cell_type": "code",
      "source": [
        "list_1[5]\n"
      ],
      "metadata": {
        "colab": {
          "base_uri": "https://localhost:8080/"
        },
        "id": "A1yFtUoPcO6Q",
        "outputId": "e30d3243-dd04-494e-949c-9ec1563b9432"
      },
      "execution_count": null,
      "outputs": [
        {
          "output_type": "execute_result",
          "data": {
            "text/plain": [
              "4"
            ]
          },
          "metadata": {},
          "execution_count": 16
        }
      ]
    },
    {
      "cell_type": "code",
      "source": [
        "list_1[4]\n"
      ],
      "metadata": {
        "colab": {
          "base_uri": "https://localhost:8080/"
        },
        "id": "4CSJv9bXclgT",
        "outputId": "e2de0c7f-e069-49cf-ec16-ed9433a0e86a"
      },
      "execution_count": null,
      "outputs": [
        {
          "output_type": "execute_result",
          "data": {
            "text/plain": [
              "0"
            ]
          },
          "metadata": {},
          "execution_count": 17
        }
      ]
    },
    {
      "cell_type": "code",
      "source": [
        "list_1[-3::-1]"
      ],
      "metadata": {
        "colab": {
          "base_uri": "https://localhost:8080/"
        },
        "id": "esmgvL95cruf",
        "outputId": "be793ed4-8073-40f2-b20e-77c91fc16337"
      },
      "execution_count": null,
      "outputs": [
        {
          "output_type": "execute_result",
          "data": {
            "text/plain": [
              "[7, 778, 8387.838394, 10]"
            ]
          },
          "metadata": {},
          "execution_count": 24
        }
      ]
    },
    {
      "cell_type": "code",
      "source": [
        "A=[10, 3.14 ,'E&IoT']"
      ],
      "metadata": {
        "id": "yJb5pu5EdIf8"
      },
      "execution_count": null,
      "outputs": []
    },
    {
      "cell_type": "code",
      "source": [
        "A[-1::]"
      ],
      "metadata": {
        "colab": {
          "base_uri": "https://localhost:8080/"
        },
        "id": "D8FWfHT6dRgG",
        "outputId": "56f2f2e1-5ebd-4bc8-cf34-fc29c36e4ad0"
      },
      "execution_count": null,
      "outputs": [
        {
          "output_type": "execute_result",
          "data": {
            "text/plain": [
              "['E&IoT']"
            ]
          },
          "metadata": {},
          "execution_count": 33
        }
      ]
    },
    {
      "cell_type": "code",
      "source": [
        "len(A)"
      ],
      "metadata": {
        "colab": {
          "base_uri": "https://localhost:8080/"
        },
        "id": "9Zzh-x5HdrVI",
        "outputId": "3dac596e-6a83-4bba-d5a2-7a75e6446c62"
      },
      "execution_count": null,
      "outputs": [
        {
          "output_type": "execute_result",
          "data": {
            "text/plain": [
              "3"
            ]
          },
          "metadata": {},
          "execution_count": 38
        }
      ]
    },
    {
      "cell_type": "code",
      "source": [
        "type(A)"
      ],
      "metadata": {
        "colab": {
          "base_uri": "https://localhost:8080/"
        },
        "id": "8zboflgUeCUH",
        "outputId": "a85e23e1-41a1-4d0f-ced7-050497547843"
      },
      "execution_count": null,
      "outputs": [
        {
          "output_type": "execute_result",
          "data": {
            "text/plain": [
              "list"
            ]
          },
          "metadata": {},
          "execution_count": 39
        }
      ]
    },
    {
      "cell_type": "code",
      "source": [
        "list2=[10,20,[12,67], 'Embedded']\n"
      ],
      "metadata": {
        "id": "nyWLqosueHfw"
      },
      "execution_count": null,
      "outputs": []
    },
    {
      "cell_type": "code",
      "source": [
        "len(list2)"
      ],
      "metadata": {
        "colab": {
          "base_uri": "https://localhost:8080/"
        },
        "id": "m3lTUJHZePsh",
        "outputId": "70193d4c-777a-4e47-abf7-1461a026c512"
      },
      "execution_count": null,
      "outputs": [
        {
          "output_type": "execute_result",
          "data": {
            "text/plain": [
              "4"
            ]
          },
          "metadata": {},
          "execution_count": 43
        }
      ]
    },
    {
      "cell_type": "code",
      "source": [
        "Num_list=[5,9,28,10,19]"
      ],
      "metadata": {
        "id": "mb_t4ZG_emcS"
      },
      "execution_count": null,
      "outputs": []
    },
    {
      "cell_type": "code",
      "source": [
        "# Write a code to find the largest of the given list:\n",
        "num_list=[5,9,28,10,19] \n",
        "max=num_list[0]\n",
        "for i in num_list:\n",
        "  if i>max: \n",
        "    max=i\n",
        "print(max)"
      ],
      "metadata": {
        "colab": {
          "base_uri": "https://localhost:8080/"
        },
        "id": "XE7vpiFLexVu",
        "outputId": "b7d8562c-fc1d-42d4-99eb-268aaf51fcf1"
      },
      "execution_count": null,
      "outputs": [
        {
          "output_type": "stream",
          "name": "stdout",
          "text": [
            "28\n"
          ]
        }
      ]
    },
    {
      "cell_type": "code",
      "source": [
        "list1=input(\"Enter numbers of your choice::\")\n",
        "max=list1[0]\n",
        "for num in list1:\n",
        "    if num>max: \n",
        "      max=num\n",
        "max"
      ],
      "metadata": {
        "colab": {
          "base_uri": "https://localhost:8080/",
          "height": 54
        },
        "id": "2u3oXgMYffNE",
        "outputId": "48dfb43e-57c2-4a2d-c816-fc016675fb2f"
      },
      "execution_count": null,
      "outputs": [
        {
          "name": "stdout",
          "output_type": "stream",
          "text": [
            "Enter numbers of your choice::1,2,3,4,5,6,7,8,9\n"
          ]
        },
        {
          "output_type": "execute_result",
          "data": {
            "application/vnd.google.colaboratory.intrinsic+json": {
              "type": "string"
            },
            "text/plain": [
              "'9'"
            ]
          },
          "metadata": {},
          "execution_count": 82
        }
      ]
    },
    {
      "cell_type": "code",
      "source": [
        "list1.split()"
      ],
      "metadata": {
        "colab": {
          "base_uri": "https://localhost:8080/"
        },
        "id": "ITEjFFuUjYhe",
        "outputId": "7b96a089-3035-434f-82da-e6de4debc978"
      },
      "execution_count": null,
      "outputs": [
        {
          "output_type": "execute_result",
          "data": {
            "text/plain": [
              "['1,2,3,4,5,6,7,8,9']"
            ]
          },
          "metadata": {},
          "execution_count": 87
        }
      ]
    },
    {
      "cell_type": "code",
      "source": [
        "num_list2=input(\"Enter numbers of your choice::\").split(',')\n",
        "#num_list2=int(1) for i in num_list2\n",
        "j=0\n",
        "for i in num_list2:\n",
        "  num_list2[j]=int(i)\n",
        "  j=j+1\n",
        "num_list2"
      ],
      "metadata": {
        "colab": {
          "base_uri": "https://localhost:8080/"
        },
        "id": "23kkujiXjn3l",
        "outputId": "e20e29a2-245a-4260-8406-4859884a6f05"
      },
      "execution_count": null,
      "outputs": [
        {
          "name": "stdout",
          "output_type": "stream",
          "text": [
            "Enter numbers of your choice::1,2,3,4,5,6\n"
          ]
        },
        {
          "output_type": "execute_result",
          "data": {
            "text/plain": [
              "[1, 2, 3, 4, 5, 6]"
            ]
          },
          "metadata": {},
          "execution_count": 92
        }
      ]
    },
    {
      "cell_type": "code",
      "source": [
        "num_list2=input(\"Enter numbers of your choice::\").split(',')\n",
        "num_list3=[int(i) for i in num_list2]\n",
        "num_list3"
      ],
      "metadata": {
        "colab": {
          "base_uri": "https://localhost:8080/"
        },
        "id": "aurIEu04hMzx",
        "outputId": "3585c34c-510b-4e94-eaf7-1e81fff4b43f"
      },
      "execution_count": null,
      "outputs": [
        {
          "name": "stdout",
          "output_type": "stream",
          "text": [
            "Enter numbers of your choice::6,44,88\n"
          ]
        },
        {
          "output_type": "execute_result",
          "data": {
            "text/plain": [
              "[6, 44, 88]"
            ]
          },
          "metadata": {},
          "execution_count": 93
        }
      ]
    },
    {
      "cell_type": "code",
      "source": [
        "num_list2=input(\"Enter numbers of your choice::\").split(',')\n",
        "num_list2=[int(i) for i in num_list2]\n",
        "max=list2[0]\n",
        "for i in num_list2:\n",
        "  num_list2[max]=int(i)\n",
        "  max=max+1\n",
        "num_list2"
      ],
      "metadata": {
        "colab": {
          "base_uri": "https://localhost:8080/",
          "height": 262
        },
        "id": "UnUS1-uBlO2p",
        "outputId": "fafd32b9-64f5-4e13-8db2-98668fdf2e1d"
      },
      "execution_count": null,
      "outputs": [
        {
          "name": "stdout",
          "output_type": "stream",
          "text": [
            "Enter numbers of your choice::1,2,3\n"
          ]
        },
        {
          "output_type": "error",
          "ename": "IndexError",
          "evalue": "ignored",
          "traceback": [
            "\u001b[0;31m---------------------------------------------------------------------------\u001b[0m",
            "\u001b[0;31mIndexError\u001b[0m                                Traceback (most recent call last)",
            "\u001b[0;32m<ipython-input-98-0a180083a907>\u001b[0m in \u001b[0;36m<module>\u001b[0;34m()\u001b[0m\n\u001b[1;32m      3\u001b[0m \u001b[0mmax\u001b[0m\u001b[0;34m=\u001b[0m\u001b[0mlist2\u001b[0m\u001b[0;34m[\u001b[0m\u001b[0;36m0\u001b[0m\u001b[0;34m]\u001b[0m\u001b[0;34m\u001b[0m\u001b[0;34m\u001b[0m\u001b[0m\n\u001b[1;32m      4\u001b[0m \u001b[0;32mfor\u001b[0m \u001b[0mi\u001b[0m \u001b[0;32min\u001b[0m \u001b[0mnum_list2\u001b[0m\u001b[0;34m:\u001b[0m\u001b[0;34m\u001b[0m\u001b[0;34m\u001b[0m\u001b[0m\n\u001b[0;32m----> 5\u001b[0;31m   \u001b[0mnum_list2\u001b[0m\u001b[0;34m[\u001b[0m\u001b[0mmax\u001b[0m\u001b[0;34m]\u001b[0m\u001b[0;34m=\u001b[0m\u001b[0mint\u001b[0m\u001b[0;34m(\u001b[0m\u001b[0mi\u001b[0m\u001b[0;34m)\u001b[0m\u001b[0;34m\u001b[0m\u001b[0;34m\u001b[0m\u001b[0m\n\u001b[0m\u001b[1;32m      6\u001b[0m   \u001b[0mmax\u001b[0m\u001b[0;34m=\u001b[0m\u001b[0mmax\u001b[0m\u001b[0;34m+\u001b[0m\u001b[0;36m1\u001b[0m\u001b[0;34m\u001b[0m\u001b[0;34m\u001b[0m\u001b[0m\n\u001b[1;32m      7\u001b[0m \u001b[0mnum_list2\u001b[0m\u001b[0;34m\u001b[0m\u001b[0;34m\u001b[0m\u001b[0m\n",
            "\u001b[0;31mIndexError\u001b[0m: list assignment index out of range"
          ]
        }
      ]
    },
    {
      "cell_type": "code",
      "source": [
        "n=input(\"Enter the value of list\")"
      ],
      "metadata": {
        "colab": {
          "base_uri": "https://localhost:8080/"
        },
        "id": "35vy3PGmg0Kn",
        "outputId": "785625c9-1d69-4881-cc9d-ecba96f3a6e9"
      },
      "execution_count": null,
      "outputs": [
        {
          "name": "stdout",
          "output_type": "stream",
          "text": [
            "Enter the value of list1,2,3,4,5,6\n"
          ]
        }
      ]
    },
    {
      "cell_type": "markdown",
      "source": [
        "Write a python program to count the number of characters in the entered string and store them in a dictionary data structure\n",
        "Input: \n",
        "'Embedded System'\n",
        "Output: \n",
        "{'E':1, 'm':2,'b':1,'e':3,'d':3,'S':1,'y':1,'s':1,'t':1}"
      ],
      "metadata": {
        "id": "0kG2VWwultKr"
      }
    },
    {
      "cell_type": "code",
      "source": [
        "dict1={'E':1, 'm':2,'b':1,'e':3,'d':3,'S':1,'y':1,'s':1,'t':1}\n"
      ],
      "metadata": {
        "id": "J9JP9PD9mm2Y"
      },
      "execution_count": null,
      "outputs": []
    },
    {
      "cell_type": "code",
      "source": [
        "print(dict1)"
      ],
      "metadata": {
        "colab": {
          "base_uri": "https://localhost:8080/"
        },
        "id": "nz82W335m1f7",
        "outputId": "27625a7f-f7d7-4749-ed98-16128ebc1bbf"
      },
      "execution_count": null,
      "outputs": [
        {
          "output_type": "stream",
          "name": "stdout",
          "text": [
            "{'E': 1, 'm': 2, 'b': 1, 'e': 3, 'd': 3, 'S': 1, 'y': 1, 's': 1, 't': 1}\n"
          ]
        }
      ]
    },
    {
      "cell_type": "code",
      "source": [
        "dict2={'City': 'Mumbai', 2: 'Maharashtra',3.22: 'India', 'PIN':400086}"
      ],
      "metadata": {
        "id": "n9QQV_KDnmvf"
      },
      "execution_count": null,
      "outputs": []
    },
    {
      "cell_type": "code",
      "source": [
        "dict2"
      ],
      "metadata": {
        "colab": {
          "base_uri": "https://localhost:8080/"
        },
        "id": "iyqTD_ien915",
        "outputId": "4031adce-80d6-4b0d-d4cb-c0a89b1ef325"
      },
      "execution_count": null,
      "outputs": [
        {
          "output_type": "execute_result",
          "data": {
            "text/plain": [
              "{2: 'Maharashtra', 3.22: 'India', 'City': 'Mumbai', 'PIN': 400086}"
            ]
          },
          "metadata": {},
          "execution_count": 105
        }
      ]
    },
    {
      "cell_type": "markdown",
      "source": [
        "{'Key':'Value'} or {'Key': Value}"
      ],
      "metadata": {
        "id": "v32meZwyoEwE"
      }
    },
    {
      "cell_type": "code",
      "source": [
        "dict2[3.22]"
      ],
      "metadata": {
        "colab": {
          "base_uri": "https://localhost:8080/",
          "height": 35
        },
        "id": "pPVqL7sAoC-C",
        "outputId": "98b48a00-6d57-4b2e-b5d8-d26dca1a2b44"
      },
      "execution_count": null,
      "outputs": [
        {
          "output_type": "execute_result",
          "data": {
            "application/vnd.google.colaboratory.intrinsic+json": {
              "type": "string"
            },
            "text/plain": [
              "'India'"
            ]
          },
          "metadata": {},
          "execution_count": 106
        }
      ]
    },
    {
      "cell_type": "code",
      "source": [
        "dict2.keys()\n"
      ],
      "metadata": {
        "colab": {
          "base_uri": "https://localhost:8080/"
        },
        "id": "k-_T126poaXA",
        "outputId": "e8567d9e-11ad-4865-c50f-146d898fab6c"
      },
      "execution_count": null,
      "outputs": [
        {
          "output_type": "execute_result",
          "data": {
            "text/plain": [
              "dict_keys(['City', 2, 3.22, 'PIN'])"
            ]
          },
          "metadata": {},
          "execution_count": 108
        }
      ]
    },
    {
      "cell_type": "code",
      "source": [
        "dict2.values()"
      ],
      "metadata": {
        "colab": {
          "base_uri": "https://localhost:8080/"
        },
        "id": "Z2oX6gU3oxIU",
        "outputId": "3aeeccc4-b49a-4dd2-9453-b578967151fb"
      },
      "execution_count": null,
      "outputs": [
        {
          "output_type": "execute_result",
          "data": {
            "text/plain": [
              "dict_values(['Mumbai', 'Maharashtra', 'India', 400086])"
            ]
          },
          "metadata": {},
          "execution_count": 110
        }
      ]
    },
    {
      "cell_type": "code",
      "source": [
        "dict2.items()"
      ],
      "metadata": {
        "colab": {
          "base_uri": "https://localhost:8080/"
        },
        "id": "0QxnVWNBo3L5",
        "outputId": "4b5b6862-6263-4f40-b3bb-a05f4d765cf5"
      },
      "execution_count": null,
      "outputs": [
        {
          "output_type": "execute_result",
          "data": {
            "text/plain": [
              "dict_items([('City', 'Mumbai'), (2, 'Maharashtra'), (3.22, 'India'), ('PIN', 400086)])"
            ]
          },
          "metadata": {},
          "execution_count": 111
        }
      ]
    },
    {
      "cell_type": "markdown",
      "source": [
        "**Write a code to get the number of count for each character if the input string is 'Embedded System'**\n"
      ],
      "metadata": {
        "id": "xxNapXsoo-ho"
      }
    },
    {
      "cell_type": "code",
      "source": [
        "string=input(\"Enter the string::\")\n"
      ],
      "metadata": {
        "colab": {
          "base_uri": "https://localhost:8080/",
          "height": 134
        },
        "id": "28-tN6G5pIdT",
        "outputId": "dac744ea-0937-413d-d82f-bd7d429d79b6"
      },
      "execution_count": null,
      "outputs": [
        {
          "output_type": "error",
          "ename": "SyntaxError",
          "evalue": "ignored",
          "traceback": [
            "\u001b[0;36m  File \u001b[0;32m\"<ipython-input-124-a28e5698d85c>\"\u001b[0;36m, line \u001b[0;32m2\u001b[0m\n\u001b[0;31m    dict3=string.rsplit(for i in dict3)\u001b[0m\n\u001b[0m                          ^\u001b[0m\n\u001b[0;31mSyntaxError\u001b[0m\u001b[0;31m:\u001b[0m invalid syntax\n"
          ]
        }
      ]
    },
    {
      "cell_type": "markdown",
      "source": [
        "Write a python progem to enter data in dictionary and arrange them in Ascending and Descending order\n",
        "\n",
        "ENC={'Vidhi':40,'Arushi':32, 'Sakshi':41, 'Priyanka':21}\n",
        "\n",
        "Asc_ENC={'Priyanka':21,'Arushi':32, 'Vidhi':40,'Sakshi':41}\n",
        "\n",
        "Dsc_ENC={'Sakshi':41, 'Vidhi':40, 'Arushi':32, 'Priyanka':21}\n",
        "\n",
        "> Indented block\n",
        "\n"
      ],
      "metadata": {
        "id": "hpAIONntsLOT"
      }
    },
    {
      "cell_type": "code",
      "source": [
        "import operator\n",
        "d = {'Vidhi':40,'Arushi':32, 'Sakshi':41, 'Priyanka':21}\n",
        "print('Original dictionary : ',d)\n",
        "sorted_d = dict(sorted(d.items(), key=operator.itemgetter(1)))\n",
        "print('Dictionary in ascending order by value : ',sorted_d)\n",
        "sorted_d = dict(sorted(d.items(), key=operator.itemgetter(1),reverse=True))\n",
        "print('Dictionary in descending order by value : ',sorted_d)"
      ],
      "metadata": {
        "colab": {
          "base_uri": "https://localhost:8080/"
        },
        "id": "-pkE346BsJ6B",
        "outputId": "b65069f5-773b-4123-c7b3-1f65464d4fab"
      },
      "execution_count": null,
      "outputs": [
        {
          "output_type": "stream",
          "name": "stdout",
          "text": [
            "Original dictionary :  {'Vidhi': 40, 'Arushi': 32, 'Sakshi': 41, 'Priyanka': 21}\n",
            "Dictionary in ascending order by value :  {'Priyanka': 21, 'Arushi': 32, 'Vidhi': 40, 'Sakshi': 41}\n",
            "Dictionary in descending order by value :  {'Sakshi': 41, 'Vidhi': 40, 'Arushi': 32, 'Priyanka': 21}\n"
          ]
        }
      ]
    }
  ]
}